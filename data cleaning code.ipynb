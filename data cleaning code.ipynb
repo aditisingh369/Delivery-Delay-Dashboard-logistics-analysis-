{
  "nbformat": 4,
  "nbformat_minor": 0,
  "metadata": {
    "colab": {
      "provenance": []
    },
    "kernelspec": {
      "name": "python3",
      "display_name": "Python 3"
    },
    "language_info": {
      "name": "python"
    }
  },
  "cells": [
    {
      "cell_type": "code",
      "execution_count": 2,
      "metadata": {
        "colab": {
          "base_uri": "https://localhost:8080/"
        },
        "id": "M1DjGtCx5HqI",
        "outputId": "f9f3e98b-5a0e-4d73-e1c4-6b47279933e4"
      },
      "outputs": [
        {
          "output_type": "stream",
          "name": "stdout",
          "text": [
            "✅ Data cleaned and saved as delivery_delay_cleaned.csv\n"
          ]
        }
      ],
      "source": [
        "import pandas as pd\n",
        "\n",
        "# Load dataset\n",
        "df = pd.read_excel(\"/content/delivery_sample_300.xlsx\")\n",
        "\n",
        "# --- Step 1: Convert dates ---\n",
        "df['Promised_Date'] = pd.to_datetime(df['Promised_Date'], errors='coerce')\n",
        "df['Delivery_Date'] = pd.to_datetime(df['Delivery_Date'], errors='coerce')\n",
        "\n",
        "# --- Step 2: Handle missing values ---\n",
        "# Replace missing Delivery_Date with NaT (already handled by errors='coerce')\n",
        "# Drop rows where both dates are missing\n",
        "df = df.dropna(subset=['Promised_Date', 'Delivery_Date'], how='all')\n",
        "\n",
        "# --- Step 3: Create new fields ---\n",
        "df['Delay_Days'] = (df['Delivery_Date'] - df['Promised_Date']).dt.days\n",
        "\n",
        "# On-Time Flag\n",
        "df['On_Time_Flag'] = df['Delay_Days'].apply(\n",
        "    lambda x: 'On Time' if pd.notnull(x) and x <= 0 else ('Late' if pd.notnull(x) else 'Unknown')\n",
        ")\n",
        "\n",
        "# Delay Bucket\n",
        "def bucket_delay(x):\n",
        "    if pd.isna(x):\n",
        "        return \"Unknown\"\n",
        "    elif x <= 0:\n",
        "        return \"On Time\"\n",
        "    elif x <= 2:\n",
        "        return \"1–2 Days Late\"\n",
        "    elif x <= 5:\n",
        "        return \"3–5 Days Late\"\n",
        "    else:\n",
        "        return \"6+ Days Late\"\n",
        "\n",
        "df['Delay_Bucket'] = df['Delay_Days'].apply(bucket_delay)\n",
        "\n",
        "# --- Step 4: Handle outliers ---\n",
        "# Cap extreme delays at 15 days for analysis\n",
        "df['Delay_Capped'] = df['Delay_Days'].apply(lambda x: min(x, 15) if pd.notnull(x) else x)\n",
        "\n",
        "# Save cleaned dataset\n",
        "df.to_csv(\"delivery_delay_cleaned.csv\", index=False)\n",
        "\n",
        "print(\"✅ Data cleaned and saved as delivery_delay_cleaned.csv\")"
      ]
    }
  ]
}